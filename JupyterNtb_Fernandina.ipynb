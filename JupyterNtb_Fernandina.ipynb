{
 "cells": [
  {
   "cell_type": "code",
   "execution_count": 19,
   "id": "c8b9cb9f-ba3d-4e5e-aa18-a07e533ba157",
   "metadata": {},
   "outputs": [
    {
     "data": {
      "text/html": [
       "<img src=\"https://earthengine.googleapis.com/v1/projects/earthengine-legacy/thumbnails/35d00b9984a0f173d21020596772dc54-c442d8e5de6155471f5196afe53037b3:getPixels\" width=\"1200\" height=\"1000\"/>"
      ],
      "text/plain": [
       "<IPython.core.display.Image object>"
      ]
     },
     "metadata": {},
     "output_type": "display_data"
    }
   ],
   "source": [
    "import ee\n",
    "from IPython.display import Image, display\n",
    "\n",
    "# Authenticate the Earth Engine API\n",
    "ee.Authenticate()\n",
    "\n",
    "# Initialize the Earth Engine API\n",
    "ee.Initialize()\n",
    "\n",
    "# Define coordinates for the polygon\n",
    "coords = [\n",
    "    [-91.674385, -0.517037],\n",
    "    [-91.674385, -0.253371],\n",
    "    [-91.364708, -0.253371],\n",
    "    [-91.364708, -0.517037],\n",
    "    [-91.674385, -0.517037]\n",
    "]\n",
    "\n",
    "# Create a polygon geometry\n",
    "polygon = ee.Geometry.Polygon(coords)\n",
    "\n",
    "# Define the exact date range (March 06, 2024)\n",
    "start_date = '2024-03-06'\n",
    "end_date = '2024-03-07'  # End date is exclusive, so use the next day\n",
    "\n",
    "# Load the Sentinel-2 ImageCollection for the specified date\n",
    "sentinel2 = ee.ImageCollection('COPERNICUS/S2_HARMONIZED') \\\n",
    "             .filterDate(start_date, end_date) \\\n",
    "             .filterBounds(polygon) \\\n",
    "             .filterMetadata('CLOUDY_PIXEL_PERCENTAGE', 'less_than', 100)\n",
    "\n",
    "# Get the first image from the collection (if available)\n",
    "image = sentinel2.first()\n",
    "\n",
    "# Define True-color visualization parameters\n",
    "natural_color_vis = {\n",
    "    'bands': ['B4', 'B3', 'B2'],\n",
    "    'min': 0,\n",
    "    'max': 3000,\n",
    "    'gamma': 0.9  # Lower gamma to increase saturation\n",
    "}\n",
    "\n",
    "# Define False-color visualization parameters (for the lava flow) with increased contrast\n",
    "false_color_vis = {\n",
    "    'bands': ['B12', 'B11', 'B8A'],\n",
    "    'min': 0,\n",
    "    'max': 4000,  # Increase max value for higher contrast\n",
    "    'gamma': 0.8  # Lower gamma to enhance saturation\n",
    "}\n",
    "\n",
    "# Function to add thermal radiation (the lava flow) to the true color image\n",
    "def add_thermal_radiation(natural_img, false_img):\n",
    "    # Extract the lava flow area from the false color image using a threshold\n",
    "    lava_mask = false_img.select('vis-red').gt(150)  # Adjust the threshold as needed\n",
    "    lava_flow = false_img.updateMask(lava_mask)\n",
    "    \n",
    "    # Combine the natural image with the lava flow\n",
    "    combined = natural_img.blend(lava_flow)\n",
    "    return combined\n",
    "\n",
    "# Check if there is an image available for the specified date\n",
    "if image is not None:\n",
    "    # Apply visualization parameters to the natural and false color images\n",
    "    natural_color_image = image.visualize(**natural_color_vis)\n",
    "    false_color_image = image.visualize(**false_color_vis)\n",
    "    \n",
    "    # Add the thermal radiation (the lava flow) to the true color image\n",
    "    combined_image = add_thermal_radiation(natural_color_image, false_color_image)\n",
    "    \n",
    "    # Get a URL to visualize the combined image\n",
    "    url = combined_image.getThumbURL({\n",
    "        'dimensions': 1024,  # Increase dimensions for better resolution\n",
    "        'region': polygon.getInfo()  # Ensure the region is set to your polygon\n",
    "    })\n",
    "    \n",
    "    # Display the combined image directly in the notebook with specific width and height\n",
    "    display(Image(url=url, width=1200, height=1000))  # Adjust width and height as needed\n",
    "else:\n",
    "    print(\"No image available for the specified date and criteria.\")"
   ]
  },
  {
   "cell_type": "code",
   "execution_count": null,
   "id": "e58c0c33-eec5-4e0e-ba22-83c0fe75f906",
   "metadata": {},
   "outputs": [],
   "source": []
  }
 ],
 "metadata": {
  "kernelspec": {
   "display_name": "Python 3 (ipykernel)",
   "language": "python",
   "name": "python3"
  },
  "language_info": {
   "codemirror_mode": {
    "name": "ipython",
    "version": 3
   },
   "file_extension": ".py",
   "mimetype": "text/x-python",
   "name": "python",
   "nbconvert_exporter": "python",
   "pygments_lexer": "ipython3",
   "version": "3.12.2"
  }
 },
 "nbformat": 4,
 "nbformat_minor": 5
}
